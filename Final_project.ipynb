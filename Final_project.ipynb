{
  "nbformat": 4,
  "nbformat_minor": 0,
  "metadata": {
    "colab": {
      "name": "Final project",
      "provenance": [],
      "authorship_tag": "ABX9TyNB7qNlgErg5Inh1nBcmmW9",
      "include_colab_link": true
    },
    "kernelspec": {
      "name": "python3",
      "display_name": "Python 3"
    },
    "language_info": {
      "name": "python"
    }
  },
  "cells": [
    {
      "cell_type": "markdown",
      "metadata": {
        "id": "view-in-github",
        "colab_type": "text"
      },
      "source": [
        "<a href=\"https://colab.research.google.com/github/dakshpat/Final-Project-Phys-240-/blob/main/Final_project.ipynb\" target=\"_parent\"><img src=\"https://colab.research.google.com/assets/colab-badge.svg\" alt=\"Open In Colab\"/></a>"
      ]
    },
    {
      "cell_type": "code",
      "metadata": {
        "id": "3oN21KIK_DEn"
      },
      "source": [
        "import numpy as np"
      ],
      "execution_count": 45,
      "outputs": []
    },
    {
      "cell_type": "code",
      "metadata": {
        "colab": {
          "base_uri": "https://localhost:8080/"
        },
        "id": "uEgW0OD__Ulh",
        "outputId": "58451df4-20b4-4d84-b257-ef1066783f29"
      },
      "source": [
        "data=np.loadtxt('https://raw.githubusercontent.com/dakshpat/Final-Project-Phys-240-/main/data1.txt', delimiter = ',', )\n",
        "\n",
        "print(data)"
      ],
      "execution_count": 46,
      "outputs": [
        {
          "output_type": "stream",
          "text": [
            "[[0.0e+00 1.0e+00]\n",
            " [5.0e+01 8.5e-01]\n",
            " [1.0e+02 5.2e-01]\n",
            " [1.5e+02 3.3e-01]\n",
            " [2.0e+02 1.6e-01]\n",
            " [2.5e+02 6.4e-02]\n",
            " [3.0e+02 2.4e-02]\n",
            " [4.0e+02 3.5e-03]]\n"
          ],
          "name": "stdout"
        }
      ]
    }
  ]
}